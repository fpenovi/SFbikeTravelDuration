{
 "cells": [
  {
   "cell_type": "code",
   "execution_count": 1,
   "metadata": {
    "collapsed": false,
    "deletable": true,
    "editable": true
   },
   "outputs": [],
   "source": [
    "from root import *\n",
    "# Con esto me traigo todo lo que inicialice en root.py y me evito repetir codigo"
   ]
  },
  {
   "cell_type": "code",
   "execution_count": 2,
   "metadata": {
    "collapsed": false,
    "deletable": true,
    "editable": true
   },
   "outputs": [
    {
     "data": {
      "text/plain": [
       "id                   False\n",
       "name                 False\n",
       "lat                  False\n",
       "long                 False\n",
       "dock_count           False\n",
       "city                 False\n",
       "installation_date    False\n",
       "dtype: bool"
      ]
     },
     "execution_count": 2,
     "metadata": {},
     "output_type": "execute_result"
    }
   ],
   "source": [
    "dfStation.isnull().any()"
   ]
  },
  {
   "cell_type": "code",
   "execution_count": 3,
   "metadata": {
    "collapsed": false,
    "deletable": true,
    "editable": true
   },
   "outputs": [
    {
     "data": {
      "text/plain": [
       "id                    False\n",
       "duration              False\n",
       "start_date            False\n",
       "start_station_name    False\n",
       "start_station_id      False\n",
       "end_date              False\n",
       "end_station_name      False\n",
       "end_station_id        False\n",
       "bike_id               False\n",
       "subscription_type     False\n",
       "zip_code               True\n",
       "dtype: bool"
      ]
     },
     "execution_count": 3,
     "metadata": {},
     "output_type": "execute_result"
    }
   ],
   "source": [
    "dfTrip.isnull().any()"
   ]
  },
  {
   "cell_type": "code",
   "execution_count": 4,
   "metadata": {
    "collapsed": false,
    "deletable": true,
    "editable": true
   },
   "outputs": [
    {
     "data": {
      "text/plain": [
       "date                              False\n",
       "max_temperature_f                  True\n",
       "mean_temperature_f                 True\n",
       "min_temperature_f                  True\n",
       "max_dew_point_f                    True\n",
       "mean_dew_point_f                   True\n",
       "min_dew_point_f                    True\n",
       "max_humidity                       True\n",
       "mean_humidity                      True\n",
       "min_humidity                       True\n",
       "max_sea_level_pressure_inches      True\n",
       "mean_sea_level_pressure_inches     True\n",
       "min_sea_level_pressure_inches      True\n",
       "max_visibility_miles               True\n",
       "mean_visibility_miles              True\n",
       "min_visibility_miles               True\n",
       "max_wind_Speed_mph                 True\n",
       "mean_wind_speed_mph                True\n",
       "max_gust_speed_mph                 True\n",
       "precipitation_inches               True\n",
       "cloud_cover                        True\n",
       "events                             True\n",
       "wind_dir_degrees                   True\n",
       "zip_code                          False\n",
       "dtype: bool"
      ]
     },
     "execution_count": 4,
     "metadata": {},
     "output_type": "execute_result"
    }
   ],
   "source": [
    "dfWeather.isnull().any()"
   ]
  }
 ],
 "metadata": {
  "kernelspec": {
   "display_name": "Python 2",
   "language": "python",
   "name": "python2"
  },
  "language_info": {
   "codemirror_mode": {
    "name": "ipython",
    "version": 2
   },
   "file_extension": ".py",
   "mimetype": "text/x-python",
   "name": "python",
   "nbconvert_exporter": "python",
   "pygments_lexer": "ipython2",
   "version": "2.7.12"
  }
 },
 "nbformat": 4,
 "nbformat_minor": 2
}
