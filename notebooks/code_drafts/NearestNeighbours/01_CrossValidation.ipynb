{
 "cells": [
  {
   "cell_type": "code",
   "execution_count": 1,
   "metadata": {
    "collapsed": false,
    "deletable": true,
    "editable": true
   },
   "outputs": [],
   "source": [
    "import numpy as np\n",
    "import pandas as pd\n",
    "import math\n",
    "import matplotlib.pyplot as plt\n",
    "from sklearn.neighbors import KNeighborsRegressor\n",
    "from sklearn.model_selection import cross_val_score"
   ]
  },
  {
   "cell_type": "code",
   "execution_count": 2,
   "metadata": {
    "collapsed": false,
    "deletable": true,
    "editable": true
   },
   "outputs": [],
   "source": [
    "dfTrain = pd.read_csv('../../../DataSet/trip_train.csv', \n",
    "                      parse_dates=['start_date', 'end_date'], \n",
    "                      infer_datetime_format=True)"
   ]
  },
  {
   "cell_type": "code",
   "execution_count": 3,
   "metadata": {
    "collapsed": false
   },
   "outputs": [],
   "source": [
    "'''Funcion bastante garompa que devuelve los numeros primos hasta max_number'''\n",
    "def primeNumbersUntil(max_number):\n",
    "    primes = [2]\n",
    "    for num in range(3,max_number,2):\n",
    "        if all(num%i!=0 for i in range(2,int(math.sqrt(num))+1)):\n",
    "           primes.append(num)\n",
    "    return primes"
   ]
  },
  {
   "cell_type": "code",
   "execution_count": 4,
   "metadata": {
    "collapsed": false
   },
   "outputs": [
    {
     "name": "stdout",
     "output_type": "stream",
     "text": [
      "['Subscriber' 'Customer']\n"
     ]
    }
   ],
   "source": [
    "# Convierto a los SUSCRIBER en un 0\n",
    "# Convierto a los CUSTOMER en un 1\n",
    "subscriptionTypes = dfTrain.subscription_type.unique()\n",
    "print subscriptionTypes\n",
    "\n",
    "# Reemplazo por 0 y 1\n",
    "dfTrain.subscription_type = dfTrain.subscription_type.astype('category', categories=subscriptionTypes).cat.codes"
   ]
  },
  {
   "cell_type": "code",
   "execution_count": 5,
   "metadata": {
    "collapsed": false,
    "deletable": true,
    "editable": true
   },
   "outputs": [],
   "source": [
    "# GENERO TARGET, TRAIN\n",
    "target = dfTrain.duration\n",
    "\n",
    "trainDateData = {'start_month':dfTrain.start_date.dt.month,\n",
    "                 'start_dayOfYear':dfTrain.start_date.dt.dayofyear,\n",
    "                 'start_dayOfWeek':dfTrain.start_date.dt.dayofweek, \n",
    "                 'start_hourOfDay':dfTrain.start_date.dt.hour}\n",
    "\n",
    "# Agrego columnas con la informacion de fechas a los dataframes\n",
    "dfTrain = dfTrain[['start_station_id', 'subscription_type']].join(pd.DataFrame(trainDateData), how='outer')"
   ]
  },
  {
   "cell_type": "code",
   "execution_count": 6,
   "metadata": {
    "collapsed": false,
    "deletable": true,
    "editable": true
   },
   "outputs": [
    {
     "data": {
      "text/plain": [
       "3"
      ]
     },
     "execution_count": 6,
     "metadata": {},
     "output_type": "execute_result"
    }
   ],
   "source": [
    "kValues = primeNumbersUntil(100)\n",
    "cvScores = []\n",
    "for k in kValues:\n",
    "    knn = KNeighborsRegressor(n_neighbors=k, n_jobs=-1)\n",
    "    scores = cross_val_score(knn, dfTrain, target, scoring='neg_mean_squared_error', n_jobs=-1)\n",
    "    cvScores.append(scores.mean())\n",
    "kValues[cvScores.index(min(cvScores))]"
   ]
  }
 ],
 "metadata": {
  "kernelspec": {
   "display_name": "Python 2",
   "language": "python",
   "name": "python2"
  },
  "language_info": {
   "codemirror_mode": {
    "name": "ipython",
    "version": 2
   },
   "file_extension": ".py",
   "mimetype": "text/x-python",
   "name": "python",
   "nbconvert_exporter": "python",
   "pygments_lexer": "ipython2",
   "version": "2.7.13"
  }
 },
 "nbformat": 4,
 "nbformat_minor": 2
}
