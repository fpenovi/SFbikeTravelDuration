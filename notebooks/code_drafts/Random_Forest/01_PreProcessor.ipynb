{
 "cells": [
  {
   "cell_type": "code",
   "execution_count": 1,
   "metadata": {
    "collapsed": true,
    "deletable": true,
    "editable": true
   },
   "outputs": [],
   "source": [
    "import numpy as np\n",
    "import pandas as pd\n",
    "from sklearn.ensemble import RandomForestRegressor\n",
    "from sklearn.metrics import mean_squared_error"
   ]
  },
  {
   "cell_type": "code",
   "execution_count": 2,
   "metadata": {
    "collapsed": true,
    "deletable": true,
    "editable": true
   },
   "outputs": [],
   "source": [
    "dfTrain = pd.read_csv('../../../DataSet/trip_train.csv', \n",
    "                      parse_dates=['start_date', 'end_date'], \n",
    "                      infer_datetime_format=True)\n",
    "\n",
    "dfTest = pd.read_csv('../../../DataSet/trip_test.csv', \n",
    "                     parse_dates=['start_date', 'end_date'], \n",
    "                     infer_datetime_format=True)"
   ]
  },
  {
   "cell_type": "code",
   "execution_count": 3,
   "metadata": {
    "collapsed": false,
    "deletable": true,
    "editable": true
   },
   "outputs": [
    {
     "name": "stdout",
     "output_type": "stream",
     "text": [
      "['Subscriber' 'Customer']\n"
     ]
    }
   ],
   "source": [
    "# Convierto a los SUSCRIBER en un 0\n",
    "# Convierto a los CUSTOMER en un 1\n",
    "subscriptionTypes = dfTrain.subscription_type.unique()\n",
    "print subscriptionTypes\n",
    "\n",
    "# Reemplazo por 0 y 1\n",
    "dfTrain.subscription_type = dfTrain.subscription_type.astype('category', categories=subscriptionTypes).cat.codes\n",
    "dfTest.subscription_type = dfTest.subscription_type.astype('category', categories=subscriptionTypes).cat.codes"
   ]
  },
  {
   "cell_type": "code",
   "execution_count": 4,
   "metadata": {
    "collapsed": false,
    "deletable": true,
    "editable": true
   },
   "outputs": [],
   "source": [
    "# GENERO TARGET, TRAIN, TEST Y TESTIDS (testids para el output)\n",
    "target = dfTrain.duration\n",
    "testIds = dfTest['id']\n",
    "\n",
    "\n",
    "trainDateData = {'start_month':dfTrain.start_date.dt.month,\n",
    "                 'start_dayOfYear':dfTrain.start_date.dt.dayofyear,\n",
    "                 'start_dayOfWeek':dfTrain.start_date.dt.dayofweek, \n",
    "                 'start_hourOfDay':dfTrain.start_date.dt.hour}\n",
    "\n",
    "testDateData = {'start_month':dfTest.start_date.dt.month,\n",
    "                'start_dayOfYear':dfTest.start_date.dt.dayofyear,\n",
    "                'start_dayOfWeek':dfTest.start_date.dt.dayofweek, \n",
    "                'start_hourOfDay':dfTest.start_date.dt.hour}\n",
    "\n",
    "# Agrego columnas con la informacion de fechas a los dataframes\n",
    "dfTrain = dfTrain[['start_station_id', 'subscription_type']].join(pd.DataFrame(trainDateData), how='outer')\n",
    "dfTest = dfTest[['start_station_id', 'subscription_type']].join(pd.DataFrame(testDateData), how='outer')"
   ]
  },
  {
   "cell_type": "code",
   "execution_count": 5,
   "metadata": {
    "collapsed": false,
    "deletable": true,
    "editable": true
   },
   "outputs": [
    {
     "name": "stdout",
     "output_type": "stream",
     "text": [
      "Volcando puntos...\n",
      "Prediciendo...\n"
     ]
    }
   ],
   "source": [
    "rf = RandomForestRegressor(n_estimators=20, n_jobs=-1)\n",
    "\n",
    "print(\"Volcando puntos...\")\n",
    "rf.fit(dfTrain, target)\n",
    "\n",
    "print(\"Prediciendo...\")\n",
    "predictions = rf.predict(dfTest)\n",
    "\n"
   ]
  },
  {
   "cell_type": "code",
   "execution_count": 6,
   "metadata": {
    "collapsed": false,
    "deletable": true,
    "editable": true
   },
   "outputs": [
    {
     "data": {
      "text/html": [
       "<div>\n",
       "<table border=\"1\" class=\"dataframe\">\n",
       "  <thead>\n",
       "    <tr style=\"text-align: right;\">\n",
       "      <th></th>\n",
       "      <th>id</th>\n",
       "      <th>pred_duration</th>\n",
       "      <th>real_duration</th>\n",
       "    </tr>\n",
       "  </thead>\n",
       "  <tbody>\n",
       "    <tr>\n",
       "      <th>0</th>\n",
       "      <td>504737</td>\n",
       "      <td>6392.368512</td>\n",
       "      <td>2839</td>\n",
       "    </tr>\n",
       "    <tr>\n",
       "      <th>1</th>\n",
       "      <td>530846</td>\n",
       "      <td>331.150000</td>\n",
       "      <td>519</td>\n",
       "    </tr>\n",
       "    <tr>\n",
       "      <th>2</th>\n",
       "      <td>813140</td>\n",
       "      <td>568.205732</td>\n",
       "      <td>176</td>\n",
       "    </tr>\n",
       "    <tr>\n",
       "      <th>3</th>\n",
       "      <td>897674</td>\n",
       "      <td>599.506548</td>\n",
       "      <td>502</td>\n",
       "    </tr>\n",
       "    <tr>\n",
       "      <th>4</th>\n",
       "      <td>322830</td>\n",
       "      <td>612.496944</td>\n",
       "      <td>677</td>\n",
       "    </tr>\n",
       "    <tr>\n",
       "      <th>5</th>\n",
       "      <td>487841</td>\n",
       "      <td>558.146012</td>\n",
       "      <td>341</td>\n",
       "    </tr>\n",
       "    <tr>\n",
       "      <th>6</th>\n",
       "      <td>677808</td>\n",
       "      <td>432.547540</td>\n",
       "      <td>742</td>\n",
       "    </tr>\n",
       "    <tr>\n",
       "      <th>7</th>\n",
       "      <td>704449</td>\n",
       "      <td>689.479167</td>\n",
       "      <td>345</td>\n",
       "    </tr>\n",
       "    <tr>\n",
       "      <th>8</th>\n",
       "      <td>833587</td>\n",
       "      <td>486.452857</td>\n",
       "      <td>357</td>\n",
       "    </tr>\n",
       "    <tr>\n",
       "      <th>9</th>\n",
       "      <td>420411</td>\n",
       "      <td>494.576667</td>\n",
       "      <td>705</td>\n",
       "    </tr>\n",
       "  </tbody>\n",
       "</table>\n",
       "</div>"
      ],
      "text/plain": [
       "       id  pred_duration  real_duration\n",
       "0  504737    6392.368512           2839\n",
       "1  530846     331.150000            519\n",
       "2  813140     568.205732            176\n",
       "3  897674     599.506548            502\n",
       "4  322830     612.496944            677\n",
       "5  487841     558.146012            341\n",
       "6  677808     432.547540            742\n",
       "7  704449     689.479167            345\n",
       "8  833587     486.452857            357\n",
       "9  420411     494.576667            705"
      ]
     },
     "execution_count": 6,
     "metadata": {},
     "output_type": "execute_result"
    }
   ],
   "source": [
    "dfTrips = pd.read_csv('../../../DataSet/trip.csv')[['id', 'duration']]\n",
    "dfTrips.rename(columns={'duration':'real_duration'}, inplace=True)\n",
    "dfValidation = pd.DataFrame({'id':testIds, 'pred_duration':predictions})\n",
    "dfValidation = dfValidation.merge(dfTrips, how='inner', on='id')\n",
    "dfValidation.head(10)"
   ]
  },
  {
   "cell_type": "code",
   "execution_count": 7,
   "metadata": {
    "collapsed": false
   },
   "outputs": [
    {
     "data": {
      "text/plain": [
       "51895150.447191782"
      ]
     },
     "execution_count": 7,
     "metadata": {},
     "output_type": "execute_result"
    }
   ],
   "source": [
    "mean_squared_error(dfValidation.real_duration, dfValidation.pred_duration)"
   ]
  }
 ],
 "metadata": {
  "kernelspec": {
   "display_name": "Python 2",
   "language": "python",
   "name": "python2"
  },
  "language_info": {
   "codemirror_mode": {
    "name": "ipython",
    "version": 2
   },
   "file_extension": ".py",
   "mimetype": "text/x-python",
   "name": "python",
   "nbconvert_exporter": "python",
   "pygments_lexer": "ipython2",
   "version": "2.7.12"
  }
 },
 "nbformat": 4,
 "nbformat_minor": 2
}
