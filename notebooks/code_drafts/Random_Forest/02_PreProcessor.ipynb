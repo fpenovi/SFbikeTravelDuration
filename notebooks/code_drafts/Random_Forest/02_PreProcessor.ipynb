{
 "cells": [
  {
   "cell_type": "code",
   "execution_count": 28,
   "metadata": {
    "collapsed": true
   },
   "outputs": [],
   "source": [
    "import numpy as np\n",
    "import pandas as pd\n",
    "from sklearn.ensemble import RandomForestRegressor"
   ]
  },
  {
   "cell_type": "code",
   "execution_count": 59,
   "metadata": {
    "collapsed": false
   },
   "outputs": [],
   "source": [
    "dfTrain = pd.read_csv('../../../DataSet/trip_train.csv', \n",
    "                      parse_dates=['start_date', 'end_date'], \n",
    "                      infer_datetime_format=True)\n",
    "\n",
    "dfTest = pd.read_csv('../../../DataSet/trip_test.csv', \n",
    "                     parse_dates=['start_date', 'end_date'], \n",
    "                     infer_datetime_format=True)\n",
    "\n",
    "dfWeather = pd.read_csv('../../../DataSet/weather.csv', parse_dates=['date'], infer_datetime_format=True)\n",
    "\n",
    "dfStation = pd.read_csv('../../../DataSet/station.csv', parse_dates=['installation_date'], infer_datetime_format=True)"
   ]
  },
  {
   "cell_type": "code",
   "execution_count": 68,
   "metadata": {
    "collapsed": false,
    "scrolled": true
   },
   "outputs": [
    {
     "data": {
      "text/plain": [
       "array(['0', 'T', '0.01', '0.08', '0.05', '0.03', nan, '0.02'], dtype=object)"
      ]
     },
     "execution_count": 68,
     "metadata": {},
     "output_type": "execute_result"
    }
   ],
   "source": [
    "def getEventCategoryName(event):\n",
    "    if pd.isnull(event):\n",
    "        return 'Clear'\n",
    "    capitalizedEvent = event.capitalize()\n",
    "    if capitalizedEvent == 'Fog':\n",
    "        return 'Clear'\n",
    "    if capitalizedEvent == 'Fog-rain':\n",
    "        return 'Rain'\n",
    "    return capitalizedEvent\n",
    "\n",
    "\n",
    "dfPrecipitations = dfWeather[['date', 'zip_code', 'events', 'precipitation_inches']]\n",
    "dfPrecipitations.rename(columns={'date':'start_date'}, inplace=True)\n",
    "\n",
    "dfPrecipitations.events = dfPrecipitations.events.apply(getEventCategoryName)\n",
    "dfPrecipitations[dfPrecipitations.events == 'Clear'].precipitation_inches.unique()"
   ]
  },
  {
   "cell_type": "markdown",
   "metadata": {},
   "source": [
    "Como se puede ver, en los que quedan categorizados como 'Clear' las precipitaciones son muy bajas y, en su gran mayoría, el valor es 0. Por lo que tomo como correcta la categorización."
   ]
  },
  {
   "cell_type": "code",
   "execution_count": 69,
   "metadata": {
    "collapsed": false
   },
   "outputs": [
    {
     "name": "stdout",
     "output_type": "stream",
     "text": [
      "['Clear' 'Rain' 'Rain-thunderstorm']\n",
      "[0 1 2]\n"
     ]
    }
   ],
   "source": [
    "events = dfPrecipitations.events.unique()\n",
    "print events\n",
    "dfPrecipitations.events = dfPrecipitations.events.astype('category', categories=events).cat.codes\n",
    "print dfPrecipitations.events.unique()"
   ]
  },
  {
   "cell_type": "code",
   "execution_count": 21,
   "metadata": {
    "collapsed": false
   },
   "outputs": [],
   "source": [
    "''' Utilizada como parámetro para función DataFrame.apply\n",
    "    Para cada row, devuelve el zip code correspondiente a la ciudad.'''\n",
    "def cityNameToZipCode(row) :\n",
    "\n",
    "    if row.city == 'San Francisco' :\n",
    "        return 94107\n",
    "\n",
    "    if row.city == 'Redwood City' :\n",
    "        return 94063\n",
    "\n",
    "    if row.city == 'Palo Alto' :\n",
    "        return 94301\n",
    "\n",
    "    if row.city == 'Mountain View' :\n",
    "        return 94041\n",
    "\n",
    "    if row.city == 'San Jose' :\n",
    "        return 95113\n",
    "\n",
    "dfStation.rename(columns={'id':'start_station_id'}, inplace=True)\n",
    "#Agrego columna de events a dfTrain\n",
    "dfTrain = dfTrain.merge(dfStation[['start_station_id', 'city']], on=['start_station_id'])\n",
    "dfTrain.zip_code = dfTrain.apply(cityNameToZipCode, axis=1)\n",
    "dfTrain.start_date = pd.to_datetime(dfTrain.start_date.dt.date)\n",
    "dfTrain = dfTrain.merge(dfPrecipitations, on=['start_date', 'zip_code'])\n",
    "#Agrego columna de events a dfTest\n",
    "dfTest = dfTest.merge(dfStation[['start_station_id', 'city']], on=['start_station_id'])\n",
    "dfTest.zip_code = dfTest.apply(cityNameToZipCode, axis=1)\n",
    "dfTest.start_date = pd.to_datetime(dfTest.start_date.dt.date)\n",
    "dfTest = dfTest.merge(dfPrecipitations, on=['start_date', 'zip_code'])"
   ]
  },
  {
   "cell_type": "code",
   "execution_count": 22,
   "metadata": {
    "collapsed": false
   },
   "outputs": [
    {
     "name": "stdout",
     "output_type": "stream",
     "text": [
      "['Subscriber' 'Customer']\n"
     ]
    }
   ],
   "source": [
    "# Convierto a los SUSCRIBER en un 0\n",
    "# Convierto a los CUSTOMER en un 1\n",
    "subscriptionTypes = dfTrain.subscription_type.unique()\n",
    "print subscriptionTypes\n",
    "\n",
    "# Reemplazo por 0 y 1\n",
    "dfTrain.subscription_type = dfTrain.subscription_type.astype('category', categories=subscriptionTypes).cat.codes\n",
    "dfTest.subscription_type = dfTest.subscription_type.astype('category', categories=subscriptionTypes).cat.codes"
   ]
  },
  {
   "cell_type": "code",
   "execution_count": 23,
   "metadata": {
    "collapsed": false
   },
   "outputs": [],
   "source": [
    "# GENERO TARGET, TRAIN, TEST Y TESTIDS (testids para el output)\n",
    "target = dfTrain.duration\n",
    "testIds = dfTest['id']\n",
    "\n",
    "\n",
    "trainDateData = {'start_month':dfTrain.start_date.dt.month,\n",
    "                 'start_dayOfWeek':dfTrain.start_date.dt.dayofweek, \n",
    "                 'start_hourOfDay':dfTrain.start_date.dt.hour}\n",
    "\n",
    "testDateData = {'start_month':dfTest.start_date.dt.month,\n",
    "                'start_dayOfWeek':dfTest.start_date.dt.dayofweek, \n",
    "                'start_hourOfDay':dfTest.start_date.dt.hour}\n",
    "\n",
    "# Agrego columnas con la informacion de fechas a los dataframes\n",
    "dfTrain = dfTrain[['start_station_id', 'subscription_type', 'events']].join(pd.DataFrame(trainDateData), how='outer')\n",
    "dfTest = dfTest[['start_station_id', 'subscription_type', 'events']].join(pd.DataFrame(testDateData), how='outer')\n",
    "\n"
   ]
  },
  {
   "cell_type": "code",
   "execution_count": 24,
   "metadata": {
    "collapsed": false
   },
   "outputs": [
    {
     "data": {
      "text/plain": [
       "'\\nrf = RandomForestRegressor(n_estimators=3, n_jobs=-1)\\n\\nprint(\"Volcando puntos...\")\\nrf.fit(dfTrain, target)\\n\\nprint(\"Prediciendo...\")\\npredictions = rf.predict(dfTest)\\n\\n'"
      ]
     },
     "execution_count": 24,
     "metadata": {},
     "output_type": "execute_result"
    }
   ],
   "source": [
    "'''\n",
    "rf = RandomForestRegressor(n_estimators=3, n_jobs=-1)\n",
    "\n",
    "print(\"Volcando puntos...\")\n",
    "rf.fit(dfTrain, target)\n",
    "\n",
    "print(\"Prediciendo...\")\n",
    "predictions = rf.predict(dfTest)\n",
    "\n",
    "'''"
   ]
  },
  {
   "cell_type": "code",
   "execution_count": 25,
   "metadata": {
    "collapsed": false
   },
   "outputs": [],
   "source": [
    "#zip(predictions, testIds)"
   ]
  }
 ],
 "metadata": {
  "kernelspec": {
   "display_name": "Python 2",
   "language": "python",
   "name": "python2"
  },
  "language_info": {
   "codemirror_mode": {
    "name": "ipython",
    "version": 2
   },
   "file_extension": ".py",
   "mimetype": "text/x-python",
   "name": "python",
   "nbconvert_exporter": "python",
   "pygments_lexer": "ipython2",
   "version": "2.7.13"
  }
 },
 "nbformat": 4,
 "nbformat_minor": 2
}
